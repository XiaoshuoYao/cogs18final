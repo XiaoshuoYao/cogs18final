{
 "cells": [
  {
   "cell_type": "markdown",
   "metadata": {},
   "source": [
    "# Project Description"
   ]
  },
  {
   "cell_type": "markdown",
   "metadata": {},
   "source": [
    "My project is a scraper. It can get all the articles in selected pages on the UCSD news website and save them in txt files in NewsArticles folder. \n",
    "Both the script.py file and this Jupyter Notebook should works fine. \n",
    "There are total 500+ pages on the website, and each page contains about 10 articles. \n",
    "I don't suggest input a wide range(endpage - startpage) because the run time would be long. \n",
    "I planned to use this program to do data analysis of the UCSD news. "
   ]
  },
  {
   "cell_type": "markdown",
   "metadata": {},
   "source": [
    "## Project Code\n",
    "\n",
    "If it makes sense for your project, you can have code and outputs here in the notebook as well."
   ]
  },
  {
   "cell_type": "code",
   "execution_count": null,
   "metadata": {},
   "outputs": [],
   "source": [
    "import sys\n",
    "sys.path.append('../')\n",
    "\n",
    "import requests\n",
    "from bs4 import BeautifulSoup\n",
    "import re\n",
    "\n",
    "\n",
    "from my_module.functions import MakeaSoup, process_url, GetLinks, SingleLink, GetArti, ProcessArti"
   ]
  },
  {
   "cell_type": "code",
   "execution_count": null,
   "metadata": {},
   "outputs": [],
   "source": [
    "start_page = input(\"Please type in a page number you want to start collect:\\t\")\n",
    "\n",
    "#This module checks that if the input is a number\n",
    "#if not, the user will be asked to do a input again\n",
    "while start_page is not None:\n",
    "    try:\n",
    "        x = int(start_page)\n",
    "        break\n",
    "    except ValueError:\n",
    "        print(\"Sorry but you have to type in a number\")\n",
    "        start_page = input(\"Please type in a page number you want to start collect:\\t\")\n",
    "              \n",
    "end_page = input(\"Please type in a page number you want to end collect:\\t\")\n",
    "\n",
    "#This module checks that if the input is a number,\n",
    "#if not, the user will be asked to do a input again\n",
    "while end_page is not None:\n",
    "    try:\n",
    "        x = int(end_page)\n",
    "        break\n",
    "    except ValueError:\n",
    "        print(\"Sorry but you have to type in a number\")\n",
    "        end_page = input(\"Please type in a page number you want to end collect:\\t\")\n",
    "\n",
    "#This module checks that if the inputs is right for the program\n",
    "if int(end_page) <= int(start_page):\n",
    "    raise ValueError(\"The end page should larger than the start page\")  \n",
    "if int(end_page) > 516:\n",
    "    raise ValueError(\"The page number exeed the page exists\")\n",
    "\n",
    "pages = process_url(int(start_page), int(end_page))\n",
    "\n",
    "arti_links = []\n",
    "proc_artilinks = []\n",
    "\n",
    "#Get the list of article links\n",
    "for page in pages:\n",
    "    arti_links.append(SingleLink(page))\n",
    "for link in arti_links:\n",
    "    proc_artilinks = proc_artilinks + link\n",
    "\n",
    "count = 1\n",
    "\n",
    "#Get the articles and save them in txt files\n",
    "for link in proc_artilinks:\n",
    "    texts = ProcessArti(link)\n",
    "    filename = \"NewsArticles\\ UCSD_News_Article\" + str(count) + \".txt\"\n",
    "    count = count + 1\n",
    "    ArticleFile = open(filename,'w',encoding=\"utf-8\")\n",
    "    ArticleFile.write(texts)\n",
    "    ArticleFile.close()\n",
    "\n",
    "print(\"Finished! The files are in the NewsArticles folder.\")"
   ]
  }
 ],
 "metadata": {
  "kernelspec": {
   "display_name": "Python 3",
   "language": "python",
   "name": "python3"
  },
  "language_info": {
   "codemirror_mode": {
    "name": "ipython",
    "version": 3
   },
   "file_extension": ".py",
   "mimetype": "text/x-python",
   "name": "python",
   "nbconvert_exporter": "python",
   "pygments_lexer": "ipython3",
   "version": "3.7.0"
  }
 },
 "nbformat": 4,
 "nbformat_minor": 2
}
