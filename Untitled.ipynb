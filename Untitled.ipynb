{
 "cells": [
  {
   "cell_type": "code",
   "execution_count": 2,
   "metadata": {},
   "outputs": [],
   "source": [
    "import requests\n",
    "from bs4 import BeautifulSoup\n",
    "import re"
   ]
  },
  {
   "cell_type": "code",
   "execution_count": 3,
   "metadata": {},
   "outputs": [],
   "source": [
    "def MakeaSoup(url):\n",
    "    \n",
    "    content = requests.get(url)\n",
    "    output = BeautifulSoup(content.text)\n",
    "    \n",
    "    return output"
   ]
  },
  {
   "cell_type": "code",
   "execution_count": 4,
   "metadata": {},
   "outputs": [],
   "source": [
    "#produce a list of urls\n",
    "def process_url(start_page=0,end_pages=10):\n",
    "    \n",
    "    output_list = []\n",
    "    counter = start_page\n",
    "    default_url = \"https://ucsdnews.ucsd.edu/archives\"\n",
    "    \n",
    "    while counter < end_pages:\n",
    "        if counter == 0:\n",
    "            output_list.append(default_url)\n",
    "        else:\n",
    "            output_list.append(default_url + \"/P\" + str(counter*10))\n",
    "        counter = counter + 1\n",
    "            \n",
    "    return output_list"
   ]
  },
  {
   "cell_type": "code",
   "execution_count": 5,
   "metadata": {},
   "outputs": [],
   "source": [
    "#take a url,produce a list contents all links of the articles in a single page\n",
    "def GetLinks(url):\n",
    "    \n",
    "    page = MakeaSoup(url)\n",
    "    links = page.find_all(\"h2\")\n",
    "    output = []\n",
    "    \n",
    "    for link in links:\n",
    "        output.append(str(link))\n",
    "        \n",
    "    return output"
   ]
  },
  {
   "cell_type": "code",
   "execution_count": 6,
   "metadata": {},
   "outputs": [],
   "source": [
    "#takes a list produced by GetLinks and produce a list of url of the articles\n",
    "def SingleLink(url_list):\n",
    "    \n",
    "    counter = 0\n",
    "    output_list = []\n",
    "    \n",
    "    while counter < len(url_list) - 1:\n",
    "        proc_ele = url_list[counter].split('\"')\n",
    "        output_list.append(proc_ele[1])\n",
    "        counter = counter + 1\n",
    "        \n",
    "    return output_list"
   ]
  },
  {
   "cell_type": "code",
   "execution_count": 7,
   "metadata": {
    "scrolled": true
   },
   "outputs": [],
   "source": [
    "#take a string(url) as input, produce the text content of the page as a list of strings\n",
    "def GetArti(url):\n",
    "    \n",
    "    page = MakeaSoup(url)\n",
    "    article = page.find_all(\"p\")\n",
    "    article_result = []\n",
    "    \n",
    "    for element in article:\n",
    "        article_result.append(str(element))\n",
    "        \n",
    "    return article_result"
   ]
  },
  {
   "cell_type": "code",
   "execution_count": 13,
   "metadata": {},
   "outputs": [
    {
     "data": {
      "text/plain": [
       "['<p><em>Coupling Comet-generated computational models with anodically coloring electrochromes (ACEs), researchers demonstrated how small chemical modifications change the electronic structure of the molecules’ radical cation states, which in turn alter the color. Credit: Aimée Tomlinson, University of North Georgia</em></p>',\n",
       " '<p>According to a <a href=\"https://cos.gatech.edu/news/discovery-advances-field-color-changing-materials\">release</a> issued in April by Georgia Institute of Technology (Georgia Tech), a serendipitous discovery by graduate student Dylan T. Christiansen has led to materials that quickly change color from completely clear to a range of vibrant hues – and back again. The work could have applications in everything from skyscraper windows that control the amount of light and heat coming in and out of a building, to switchable camouflage and visors for military applications, and even color-changing cosmetics and clothing.</p>',\n",
       " '<p>The study also helps fill a knowledge gap in a key area of materials science and chemistry, according to the researchers.</p>',\n",
       " '<p>A recent <em>Journal of the American Chemical Society</em> article entitled <a href=\"https://pubsdc3.acs.org/doi/10.1021/jacs.9b01507\">New Design Paradigm for Color Control in Anodically Coloring Electrochromic Molecules</a> explained the research in detail, including the explanatory computational models that relied upon the <em>Comet </em>supercomputer at the San Diego Supercomputer Center (<a href=\"http://sdsc.edu/\">SDSC</a>), an Organized Research Unit of the University of California San Diego.</p>',\n",
       " '<p>First author John R. Reynolds, who has joint appointments in the<a href=\"https://www.chemistry.gatech.edu/\">School of Chemistry and Biochemistry</a>and the<a href=\"http://www.mse.gatech.edu/\">School of Materials Science and Engineering</a>at Georgia Tech, has for 20 years been studying and developing electrochromic materials that can change colors. Much of Reynolds’ work has focused on how a small electrical voltage changes electrochromic materials, called cathodically coloring polymers, from a wide range of vibrant colors to opaque but with a slight blue tint. “That’s fine for many applications – including rear-view mirrors that cut the glare from oncoming cars by turning dark – but not for all potential uses,” said Reynolds.</p>',\n",
       " '<p>For example, the U.S. Air Force is working toward visors for its pilots that would automatically switch from dark to clear when a plane flies from bright sunlight into clouds. “And when they say clear, they want it crystal clear, not a light blue,” Reynolds said. “We’d like to get rid of that tint.”</p>',\n",
       " '<p><em><b>Toward Clarity</b></em></p>',\n",
       " '<p>Another family of electrochromic materials that can change color when exposed to an oxidizing voltage is known as anodically coloring electrochromes (ACEs), colorless materials that take on color upon oxidation. But there has been a lack of understanding in the science behind those colored oxidized states, known as radical cations. Researchers have not entirely understood the absorption mechanism of these cations, so the colors could not be controllably tuned.</p>',\n",
       " '<p>Enter Dylan T. Christiansen, a graduate student in the Reynolds group. While tinkering with some ACE molecules, he experimented with a new approach to controlling color in radical cations. Specifically, he created four different ACE molecules by making tiny changes to the ACEs’ molecular structures that have little effect on the neutral or clear state, but significantly change the absorption of the colored, or radical cation state.</p>',\n",
       " '<p>The results were spectacular. “I expected some color differences between the four molecules, but thought they’d be very minor,” Christiansen said.</p>',\n",
       " '<p>Instead, upon the application of an oxidizing voltage, the four molecules produced four very different colors: two vibrant greens, a yellow, and a red. And unlike their cathodic counterparts, they are crystal clear in the neutral state, with no tint. Finally, just like mixing inks, the researchers found that a blend of the molecules that switch to green and red made a mixture that is clear and switches to an opaque black. Suddenly those Air Force visors that switch from crystal clear to black looked more attainable.</p>',\n",
       " '<p>“The beauty of this is it’s so simple. These minor chemical changes – literally the difference of a few atoms – have such a huge impact on color,” said<a href=\"https://ung.edu/chemistry-biochemistry/faculty-staff-bio/aimee-tomlinson.php\">Aimée L. Tomlinson</a>, a professor in the Department of Chemistry and Biochemistry at the<a href=\"http://ung.edu/\">University of North Georgia</a>and the third author of the paper with Reynolds and Christiansen.</p>',\n",
       " '<p><em><b>Supercomputer-generated ACE models</b></em></p>',\n",
       " '<p>How could such tiny changes have such an effect? That’s where Tomlinson, a computational chemist, and SDSC’s <em>Comet </em>supercomputer came into play. For the last five years, Tomlinson has used <em>Comet </em>to analyze Reynolds’ electrochromic materials with computational models that provide insights into what’s happening at the sub-molecular level.</p>',\n",
       " '<p>The study findings provided significant insight into how molecule alterations change colors and the work continues to generate insights into new ACE molecules, thanks to continuous feedback between Tomlinson’s models and the experimental data. The models generated by <em>Comet</em> help guide efforts in the lab to create new ACE molecules, while the experimental data from those molecules makes the <em>Comet </em>models even stronger.</p>',\n",
       " '<p>The <em>Comet</em>-generated models, coupled with Christiansen’s data for the new ACE molecules, showed how the small chemical changes can drastically alter the electronic structure of the molecules’ radical cation states, and ultimately control the color. “While I was the only person doing the computational work for this particular project, I have worked with 39 undergraduate students and 25 of them have gone on to or have plans to attend graduate or medical school,” said Tomlinson. “I have been fortunate enough to have been afforded over two million core-hours to complete my work, which has led to this paper as well as eleven additional manuscripts where seven included undergraduate authors.”</p>',\n",
       " '<p>Tomlinson noted that the visualizations helped to illuminate how radical cations work, However, they are still not well understood. She said that this study could now help others manipulate them for future use in fields beyond electrochromism.</p>',\n",
       " '<p>“I think what makes science really interesting is that [sometimes] you see something you really did not expect, you pursue it, and you end up with something that is better than you expected when you started,” said Reynolds in commenting on the serendipitous nature of the initial discovery.</p>',\n",
       " '<p>This work was funded by the U.S. Air Force Office of Scientific Research. The computational portion of the study was funded in part by the National Science Foundation Extreme Science and Engineering Discovery Environment (<a href=\"http://xsede.org/\">XSEDE</a>) allocation TG-DMR160146. Tomlinson also acknowledges the support of her university, while Reynolds acknowledges support for his electrochromic polymer research program from NXN Licensing.</p>',\n",
       " '<p>\\n<b>Jan Zverina</b>,\\n\\t\\t\\t\\t    858-534-5111, \\n\\t\\t\\t\\t    <span data-eeencemail_rvvscuvkau=\"1\">.(JavaScript must be enabled to view this email address)</span><script type=\"text/javascript\">/*<![CDATA[*/var out = \\'\\',el = document.getElementsByTagName(\\'span\\'),l = [\\'>\\',\\'a\\',\\'/\\',\\'<\\',\\' 117\\',\\' 100\\',\\' 101\\',\\' 46\\',\\' 99\\',\\' 115\\',\\' 100\\',\\' 115\\',\\' 64\\',\\' 97\\',\\' 110\\',\\' 105\\',\\' 114\\',\\' 101\\',\\' 118\\',\\' 122\\',\\' 106\\',\\'>\\',\\'\\\\\"\\',\\' 117\\',\\' 100\\',\\' 101\\',\\' 46\\',\\' 99\\',\\' 115\\',\\' 100\\',\\' 115\\',\\' 64\\',\\' 97\\',\\' 110\\',\\' 105\\',\\' 114\\',\\' 101\\',\\' 118\\',\\' 122\\',\\' 106\\',\\':\\',\\'o\\',\\'t\\',\\'l\\',\\'i\\',\\'a\\',\\'m\\',\\'\\\\\"\\',\\'=\\',\\'f\\',\\'e\\',\\'r\\',\\'h\\',\\'a \\',\\'<\\'],i = l.length,j = el.length;while (--i >= 0)out += unescape(l[i].replace(/^\\\\s\\\\s*/, \\'&#\\'));while (--j >= 0)if (el[j].getAttribute(\\'data-eeEncEmail_rvVscuVkAU\\'))el[j].innerHTML = out;/*]]>*/</script>\\n</p>',\n",
       " '<p>\\n<b>Kimberly Mann Bruch</b>,\\n\\t\\t\\t\\t    858-822-3622, \\n\\t\\t\\t\\t    <span data-eeencemail_kzcasjgfmy=\"1\">.(JavaScript must be enabled to view this email address)</span><script type=\"text/javascript\">/*<![CDATA[*/var out = \\'\\',el = document.getElementsByTagName(\\'span\\'),l = [\\'>\\',\\'a\\',\\'/\\',\\'<\\',\\' 117\\',\\' 100\\',\\' 101\\',\\' 46\\',\\' 100\\',\\' 115\\',\\' 99\\',\\' 117\\',\\' 64\\',\\' 104\\',\\' 99\\',\\' 117\\',\\' 114\\',\\' 98\\',\\' 107\\',\\'>\\',\\'\\\\\"\\',\\' 117\\',\\' 100\\',\\' 101\\',\\' 46\\',\\' 100\\',\\' 115\\',\\' 99\\',\\' 117\\',\\' 64\\',\\' 104\\',\\' 99\\',\\' 117\\',\\' 114\\',\\' 98\\',\\' 107\\',\\':\\',\\'o\\',\\'t\\',\\'l\\',\\'i\\',\\'a\\',\\'m\\',\\'\\\\\"\\',\\'=\\',\\'f\\',\\'e\\',\\'r\\',\\'h\\',\\'a \\',\\'<\\'],i = l.length,j = el.length;while (--i >= 0)out += unescape(l[i].replace(/^\\\\s\\\\s*/, \\'&#\\'));while (--j >= 0)if (el[j].getAttribute(\\'data-eeEncEmail_KzCAsjGfmY\\'))el[j].innerHTML = out;/*]]>*/</script>\\n</p>',\n",
       " '<p>\\n<b>John Toon</b>,\\n\\t\\t\\t\\t\\t\\t\\t  404-894-6986\\n\\t\\t\\t\\t\\t\\t\\t  <span data-eeencemail_hwcgsmfvru=\"1\">.(JavaScript must be enabled to view this email address)</span><script type=\"text/javascript\">/*<![CDATA[*/var out = \\'\\',el = document.getElementsByTagName(\\'span\\'),l = [\\'>\\',\\'a\\',\\'/\\',\\'<\\',\\' 117\\',\\' 100\\',\\' 101\\',\\' 46\\',\\' 104\\',\\' 99\\',\\' 101\\',\\' 116\\',\\' 97\\',\\' 103\\',\\' 64\\',\\' 110\\',\\' 111\\',\\' 111\\',\\' 116\\',\\' 106\\',\\'>\\',\\'\\\\\"\\',\\' 117\\',\\' 100\\',\\' 101\\',\\' 46\\',\\' 104\\',\\' 99\\',\\' 101\\',\\' 116\\',\\' 97\\',\\' 103\\',\\' 64\\',\\' 110\\',\\' 111\\',\\' 111\\',\\' 116\\',\\' 106\\',\\':\\',\\'o\\',\\'t\\',\\'l\\',\\'i\\',\\'a\\',\\'m\\',\\'\\\\\"\\',\\'=\\',\\'f\\',\\'e\\',\\'r\\',\\'h\\',\\'a \\',\\'<\\'],i = l.length,j = el.length;while (--i >= 0)out += unescape(l[i].replace(/^\\\\s\\\\s*/, \\'&#\\'));while (--j >= 0)if (el[j].getAttribute(\\'data-eeEncEmail_HWCGsmfVrU\\'))el[j].innerHTML = out;/*]]>*/</script>\\n</p>',\n",
       " '<p>\\n\\t\\t\\t\\t\\t\\tUC San Diego’s <a href=\"https://ucpa.ucsd.edu/services/studio/\">Studio Ten 300</a> offers radio and television connections for media interviews with our faculty. For more information, email <span data-eeencemail_xylrxsrlmt=\"1\">.(JavaScript must be enabled to view this email address)</span><script type=\"text/javascript\">/*<![CDATA[*/var out = \\'\\',el = document.getElementsByTagName(\\'span\\'),l = [\\'>\\',\\'a\\',\\'/\\',\\'<\\',\\' 117\\',\\' 100\\',\\' 101\\',\\' 46\\',\\' 100\\',\\' 115\\',\\' 99\\',\\' 117\\',\\' 64\\',\\' 111\\',\\' 105\\',\\' 100\\',\\' 117\\',\\' 116\\',\\' 115\\',\\'>\\',\\'\\\\\"\\',\\' 117\\',\\' 100\\',\\' 101\\',\\' 46\\',\\' 100\\',\\' 115\\',\\' 99\\',\\' 117\\',\\' 64\\',\\' 111\\',\\' 105\\',\\' 100\\',\\' 117\\',\\' 116\\',\\' 115\\',\\':\\',\\'o\\',\\'t\\',\\'l\\',\\'i\\',\\'a\\',\\'m\\',\\'\\\\\"\\',\\'=\\',\\'f\\',\\'e\\',\\'r\\',\\'h\\',\\'a \\',\\'<\\'],i = l.length,j = el.length;while (--i >= 0)out += unescape(l[i].replace(/^\\\\s\\\\s*/, \\'&#\\'));while (--j >= 0)if (el[j].getAttribute(\\'data-eeEncEmail_xyLRXsRLmt\\'))el[j].innerHTML = out;/*]]>*/</script>.\\n\\t\\t\\t\\t\\t</p>',\n",
       " '<p><strong>Jan Zverina</strong><br/>\\n\\t\\t\\t\\t\\t858-534-5111<br/>\\n<span data-eeencemail_vrlsoumsgy=\"1\">.(JavaScript must be enabled to view this email address)</span><script type=\"text/javascript\">/*<![CDATA[*/var out = \\'\\',el = document.getElementsByTagName(\\'span\\'),l = [\\'>\\',\\'a\\',\\'/\\',\\'<\\',\\' 117\\',\\' 100\\',\\' 101\\',\\' 46\\',\\' 99\\',\\' 115\\',\\' 100\\',\\' 115\\',\\' 64\\',\\' 97\\',\\' 110\\',\\' 105\\',\\' 114\\',\\' 101\\',\\' 118\\',\\' 122\\',\\' 106\\',\\'>\\',\\'\\\\\"\\',\\' 117\\',\\' 100\\',\\' 101\\',\\' 46\\',\\' 99\\',\\' 115\\',\\' 100\\',\\' 115\\',\\' 64\\',\\' 97\\',\\' 110\\',\\' 105\\',\\' 114\\',\\' 101\\',\\' 118\\',\\' 122\\',\\' 106\\',\\':\\',\\'o\\',\\'t\\',\\'l\\',\\'i\\',\\'a\\',\\'m\\',\\'\\\\\"\\',\\'=\\',\\'f\\',\\'e\\',\\'r\\',\\'h\\',\\'a \\',\\'<\\'],i = l.length,j = el.length;while (--i >= 0)out += unescape(l[i].replace(/^\\\\s\\\\s*/, \\'&#\\'));while (--j >= 0)if (el[j].getAttribute(\\'data-eeEncEmail_VrlsouMsgy\\'))el[j].innerHTML = out;/*]]>*/</script></p>',\n",
       " '<p><strong>Kimberly Mann Bruch</strong><br/>\\n\\t\\t\\t\\t\\t858-822-3622<br/>\\n<span data-eeencemail_psfdowdhqr=\"1\">.(JavaScript must be enabled to view this email address)</span><script type=\"text/javascript\">/*<![CDATA[*/var out = \\'\\',el = document.getElementsByTagName(\\'span\\'),l = [\\'>\\',\\'a\\',\\'/\\',\\'<\\',\\' 117\\',\\' 100\\',\\' 101\\',\\' 46\\',\\' 100\\',\\' 115\\',\\' 99\\',\\' 117\\',\\' 64\\',\\' 104\\',\\' 99\\',\\' 117\\',\\' 114\\',\\' 98\\',\\' 107\\',\\'>\\',\\'\\\\\"\\',\\' 117\\',\\' 100\\',\\' 101\\',\\' 46\\',\\' 100\\',\\' 115\\',\\' 99\\',\\' 117\\',\\' 64\\',\\' 104\\',\\' 99\\',\\' 117\\',\\' 114\\',\\' 98\\',\\' 107\\',\\':\\',\\'o\\',\\'t\\',\\'l\\',\\'i\\',\\'a\\',\\'m\\',\\'\\\\\"\\',\\'=\\',\\'f\\',\\'e\\',\\'r\\',\\'h\\',\\'a \\',\\'<\\'],i = l.length,j = el.length;while (--i >= 0)out += unescape(l[i].replace(/^\\\\s\\\\s*/, \\'&#\\'));while (--j >= 0)if (el[j].getAttribute(\\'data-eeEncEmail_PSFdOwDHQR\\'))el[j].innerHTML = out;/*]]>*/</script></p>',\n",
       " '<p><strong>John Toon</strong><br/>\\n\\t\\t\\t\\t\\t\\t\\n\\t\\t\\t\\t\\t\\t\\t404-894-6986<br/>\\n<span data-eeencemail_pyarsbpyny=\"1\">.(JavaScript must be enabled to view this email address)</span><script type=\"text/javascript\">/*<![CDATA[*/var out = \\'\\',el = document.getElementsByTagName(\\'span\\'),l = [\\'>\\',\\'a\\',\\'/\\',\\'<\\',\\' 117\\',\\' 100\\',\\' 101\\',\\' 46\\',\\' 104\\',\\' 99\\',\\' 101\\',\\' 116\\',\\' 97\\',\\' 103\\',\\' 64\\',\\' 110\\',\\' 111\\',\\' 111\\',\\' 116\\',\\' 106\\',\\'>\\',\\'\\\\\"\\',\\' 117\\',\\' 100\\',\\' 101\\',\\' 46\\',\\' 104\\',\\' 99\\',\\' 101\\',\\' 116\\',\\' 97\\',\\' 103\\',\\' 64\\',\\' 110\\',\\' 111\\',\\' 111\\',\\' 116\\',\\' 106\\',\\':\\',\\'o\\',\\'t\\',\\'l\\',\\'i\\',\\'a\\',\\'m\\',\\'\\\\\"\\',\\'=\\',\\'f\\',\\'e\\',\\'r\\',\\'h\\',\\'a \\',\\'<\\'],i = l.length,j = el.length;while (--i >= 0)out += unescape(l[i].replace(/^\\\\s\\\\s*/, \\'&#\\'));while (--j >= 0)if (el[j].getAttribute(\\'data-eeEncEmail_pYArsBpYnY\\'))el[j].innerHTML = out;/*]]>*/</script></p>',\n",
       " '<p><a href=\"http://www.sdsc.edu\" target=\"_blank\">San Diego Supercomputer Center</a></p>',\n",
       " '<p><a href=\"https://ucsd.edu\" target=\"_blank\">UC San Diego</a></p>',\n",
       " '<p><a href=\"https://www.gatech.edu\" target=\"_blank\">Georgia Tech</a></p>',\n",
       " '<p>9500 Gilman Dr., La Jolla, CA 92093 <br/>\\n\\t\\t\\t\\t(858) 534-2230</p>',\n",
       " '<p>Copyright © 2019<br/>\\n\\t\\t\\t\\tRegents of the University of California. <br/>\\n\\t\\t\\t\\tAll rights reserved.</p>']"
      ]
     },
     "execution_count": 13,
     "metadata": {},
     "output_type": "execute_result"
    }
   ],
   "source": [
    "GetArti(\"https://ucsdnews.ucsd.edu/pressrelease/researchers_rely_on_comet_to_showcase_color_changing_materials\")"
   ]
  },
  {
   "cell_type": "code",
   "execution_count": 22,
   "metadata": {},
   "outputs": [
    {
     "name": "stdout",
     "output_type": "stream",
     "text": [
      "['https://ucsdnews.ucsd.edu/archives', 'https://ucsdnews.ucsd.edu/archives/P10', 'https://ucsdnews.ucsd.edu/archives/P20', 'https://ucsdnews.ucsd.edu/archives/P30', 'https://ucsdnews.ucsd.edu/archives/P40', 'https://ucsdnews.ucsd.edu/archives/P50', 'https://ucsdnews.ucsd.edu/archives/P60', 'https://ucsdnews.ucsd.edu/archives/P70', 'https://ucsdnews.ucsd.edu/archives/P80', 'https://ucsdnews.ucsd.edu/archives/P90']\n"
     ]
    }
   ],
   "source": []
  },
  {
   "cell_type": "code",
   "execution_count": null,
   "metadata": {},
   "outputs": [],
   "source": []
  }
 ],
 "metadata": {
  "kernelspec": {
   "display_name": "Python 3",
   "language": "python",
   "name": "python3"
  },
  "language_info": {
   "codemirror_mode": {
    "name": "ipython",
    "version": 3
   },
   "file_extension": ".py",
   "mimetype": "text/x-python",
   "name": "python",
   "nbconvert_exporter": "python",
   "pygments_lexer": "ipython3",
   "version": "3.7.0"
  }
 },
 "nbformat": 4,
 "nbformat_minor": 2
}
